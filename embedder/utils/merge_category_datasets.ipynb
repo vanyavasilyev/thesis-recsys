{
 "cells": [
  {
   "cell_type": "code",
   "execution_count": 1,
   "id": "12b5074e",
   "metadata": {},
   "outputs": [],
   "source": [
    "import json\n",
    "import pandas as pd"
   ]
  },
  {
   "cell_type": "code",
   "execution_count": 19,
   "id": "906b5c77",
   "metadata": {},
   "outputs": [],
   "source": [
    "columns = ['category_name', 'filenames', 'split']"
   ]
  },
  {
   "cell_type": "code",
   "execution_count": 5,
   "id": "4cf18d08",
   "metadata": {},
   "outputs": [],
   "source": [
    "with open(\"../categories/base_categories.json\", \"r\") as f:\n",
    "    base_categories = json.load(f)"
   ]
  },
  {
   "cell_type": "code",
   "execution_count": 7,
   "id": "65b36453",
   "metadata": {},
   "outputs": [],
   "source": [
    "category_files = [\n",
    "    \"../categories/deepfashion_categories.json\",\n",
    "    \"../categories/fashion_200k_categories.json\"\n",
    "]\n",
    "data_dirs = [\n",
    "    \"\",\n",
    "    \"\",\n",
    "]"
   ]
  },
  {
   "cell_type": "code",
   "execution_count": 14,
   "id": "299e6fd3",
   "metadata": {},
   "outputs": [],
   "source": [
    "dfs = [pd.read_csv(f\"{fn}/crop_categories.csv\") for fn in data_dirs]"
   ]
  },
  {
   "cell_type": "code",
   "execution_count": 16,
   "id": "eb1fe1da",
   "metadata": {},
   "outputs": [],
   "source": [
    "cat_mappings = []\n",
    "for fn in category_files:\n",
    "    with open(fn, \"r\") as f:\n",
    "        cm = json.load(f)\n",
    "        cat_mappings.append(cm)"
   ]
  },
  {
   "cell_type": "code",
   "execution_count": 21,
   "id": "3eb97c5e",
   "metadata": {},
   "outputs": [],
   "source": [
    "final_cm = {}\n",
    "for i in range(len(dfs)):\n",
    "    df = dfs[i]\n",
    "    cm = cat_mappings[i]\n",
    "    for cat in cm:\n",
    "        final_cm[f\"{cat}_{i}\"] = cm[cat]\n",
    "    cats = [f\"{cat}_{i}\" for cat in df.category_name]\n",
    "    df[\"category_name\"] = cats"
   ]
  },
  {
   "cell_type": "code",
   "execution_count": 27,
   "id": "98ba6588",
   "metadata": {},
   "outputs": [],
   "source": [
    "pd.concat(dfs)[columns].to_csv(\"../data/crop_categories.csv\", index=False)"
   ]
  },
  {
   "cell_type": "code",
   "execution_count": 28,
   "id": "6b2748d8",
   "metadata": {},
   "outputs": [],
   "source": [
    "with open(\"../categories/df+f200_categories.json\", \"w\") as f:\n",
    "    json.dump(final_cm, f)"
   ]
  }
 ],
 "metadata": {
  "kernelspec": {
   "display_name": "Python 3",
   "language": "python",
   "name": "python3"
  },
  "language_info": {
   "codemirror_mode": {
    "name": "ipython",
    "version": 3
   },
   "file_extension": ".py",
   "mimetype": "text/x-python",
   "name": "python",
   "nbconvert_exporter": "python",
   "pygments_lexer": "ipython3",
   "version": "3.10.0"
  }
 },
 "nbformat": 4,
 "nbformat_minor": 5
}
