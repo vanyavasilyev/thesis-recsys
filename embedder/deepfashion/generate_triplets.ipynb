{
 "cells": [
  {
   "cell_type": "code",
   "execution_count": 1,
   "id": "f0c1b4f0",
   "metadata": {},
   "outputs": [],
   "source": [
    "import numpy as np\n",
    "import pandas as pd\n",
    "import json\n",
    "import tqdm\n",
    "import matplotlib.pyplot as plt\n",
    "import matplotlib.patches as patches\n",
    "import typing as tp\n",
    "\n",
    "from PIL import Image\n",
    "\n",
    "from parse_deepfashion import Crop, read_splits"
   ]
  },
  {
   "cell_type": "code",
   "execution_count": 2,
   "id": "de77deed",
   "metadata": {},
   "outputs": [],
   "source": [
    "DEEP_FASHION_DIR = \"/mnt/data/datasets/deepfashion2/\""
   ]
  },
  {
   "cell_type": "code",
   "execution_count": 3,
   "id": "94568045",
   "metadata": {},
   "outputs": [],
   "source": [
    "def show_crops(crops: tp.List[Crop]):\n",
    "    fig = plt.figure(figsize=(8, 8))\n",
    "    columns = 3\n",
    "    rows = 3\n",
    "    for i in range(1, columns*rows +1):\n",
    "        if i-1 >= len(crops):\n",
    "            break\n",
    "        id_ = crops[i-1].image_id\n",
    "        img = np.array(Image.open(f'train/image/{id_}.jpg'), dtype=np.uint8)\n",
    "        with open(f\"train/annos/{id_}.json\", \"r\") as f:\n",
    "            ann = json.load(f)\n",
    "        bbox_id = 1\n",
    "        while f\"item{bbox_id}\" in ann:\n",
    "            key = f\"item{bbox_id}\"\n",
    "            item_style = ann[key]['style']\n",
    "            if item_style != 0:\n",
    "                break\n",
    "            bbox_id += 1\n",
    "        bbox = ann[key]['bounding_box']\n",
    "        category_id = ann[key]['category_id']\n",
    "        fig.add_subplot(rows, columns, i)\n",
    "        plt.imshow(img)\n",
    "        colors = {1: 'r', 2: 'g', 3: 'b', 4: 'c'}\n",
    "        rect = patches.Rectangle((bbox[:2]), bbox[2]-bbox[0], bbox[3]-bbox[1], linewidth=1, edgecolor=colors[item_style], facecolor='none')\n",
    "        plt.gca().add_patch(rect)\n",
    "        plt.axis('off')\n",
    "    plt.show()\n",
    "\n",
    "def show_triplet(*triplet):\n",
    "    fig = plt.figure(figsize=(8, 8))\n",
    "    columns = 3\n",
    "    rows = 1\n",
    "    i = 1\n",
    "    for t in triplet:\n",
    "        img = np.array(Image.open(t), dtype=np.uint8)\n",
    "        fig.add_subplot(rows, columns, i)\n",
    "        plt.imshow(img)\n",
    "        plt.axis('off')\n",
    "        i += 1\n",
    "    plt.show()"
   ]
  },
  {
   "cell_type": "code",
   "execution_count": 4,
   "id": "6052b964",
   "metadata": {},
   "outputs": [],
   "source": [
    "def generate_triplets(item_data, num_triplets: int, min_crops: int = 5,\n",
    "                      same_item_prob=0.0,\n",
    "                      same_style_prob=0.0,\n",
    "                      neg_same_category_prob=0.0):\n",
    "    item_ids = [iid for iid, crops in item_data.items() if len(crops) >= min_crops]\n",
    "    anch_list = []\n",
    "    pos_list = []\n",
    "    neg_list = []\n",
    "    for _ in tqdm.trange(num_triplets):\n",
    "        while True:\n",
    "            same_item = (np.random.random() < same_item_prob)\n",
    "            if (np.random.random() < neg_same_category_prob) and same_item:\n",
    "                anch_item = np.random.choice(item_ids)\n",
    "                category_id = item_data[anch_item][0].category_id\n",
    "                potential_negatives = [iid for iid in item_ids if \n",
    "                                       (item_data[iid][0].category_id == category_id)\n",
    "                                       and\n",
    "                                       (iid != anch_item)\n",
    "                                      ]\n",
    "                if len(potential_negatives) < 1:\n",
    "                    continue\n",
    "                neg_item = np.random.choice(potential_negatives)\n",
    "            else:\n",
    "                anch_item, neg_item = np.random.choice(item_ids, size=2, replace=False)\n",
    "\n",
    "            if same_item:\n",
    "                same_style = (np.random.random() < same_style_prob)\n",
    "                anch = np.random.choice(item_data[anch_item])\n",
    "                potential_pos = [c for c in item_data[anch_item] if (c.category_id == anch.category_id) and (c != anch)]\n",
    "                if same_style:\n",
    "                    potential_pos = [c for c in potential_pos if c.item_style == anch.item_style]\n",
    "                if not potential_pos:\n",
    "                    continue\n",
    "                pos = np.random.choice(potential_pos)\n",
    "            else:\n",
    "                category_id = item_data[anch_item][0].category_id\n",
    "                potential_pos = [iid for iid in item_ids if \n",
    "                                       (item_data[iid][0].category_id == category_id)\n",
    "                                       and\n",
    "                                       (iid != anch_item)\n",
    "                                      ]\n",
    "                if len(potential_pos) < 1:\n",
    "                    continue\n",
    "                pos_item = np.random.choice(potential_pos)\n",
    "                anch = np.random.choice(item_data[anch_item])\n",
    "                pos = np.random.choice(item_data[pos_item])\n",
    "\n",
    "            neg = np.random.choice(item_data[neg_item])\n",
    "\n",
    "            anch_list.append(anch.crop_file)\n",
    "            pos_list.append(pos.crop_file)\n",
    "            neg_list.append(neg.crop_file)\n",
    "            break\n",
    "    return anch_list, pos_list, neg_list\n",
    "\n",
    "\n",
    "def triplets_to_csv(triplets, path, tvt_split=None):\n",
    "    if tvt_split is None:\n",
    "        tvt_split = [0.7, 0.15, 0.15]\n",
    "    df = pd.DataFrame({\n",
    "        \"anchor\": triplets[0],\n",
    "        \"positive\": triplets[1],\n",
    "        \"negative\": triplets[2],\n",
    "    })\n",
    "    df['split'] = df['anchor']\n",
    "    rd = np.random.random(size=len(df))\n",
    "    train = rd <= tvt_split[0]\n",
    "    df.loc[train, 'split'] = 'train'\n",
    "    val = (rd > tvt_split[0]) * (rd <= tvt_split[0] + tvt_split[1])\n",
    "    df.loc[val, 'split'] = 'val'\n",
    "    if len(tvt_split) == 3:\n",
    "        test = (rd > tvt_split[0] + tvt_split[1])\n",
    "        df.loc[test, 'split'] = 'test'\n",
    "    df.to_csv(path, index=False)"
   ]
  },
  {
   "cell_type": "code",
   "execution_count": 5,
   "id": "3159376f",
   "metadata": {},
   "outputs": [
    {
     "name": "stdout",
     "output_type": "stream",
     "text": [
      "Reading train split\n"
     ]
    },
    {
     "name": "stderr",
     "output_type": "stream",
     "text": [
      "  0%|          | 0/191961 [00:00<?, ?it/s]"
     ]
    },
    {
     "name": "stderr",
     "output_type": "stream",
     "text": [
      "100%|██████████| 191961/191961 [00:27<00:00, 6978.52it/s] \n"
     ]
    }
   ],
   "source": [
    "items_data = read_splits(DEEP_FASHION_DIR, [\"train\"], False)"
   ]
  },
  {
   "cell_type": "code",
   "execution_count": 7,
   "id": "1e316442",
   "metadata": {},
   "outputs": [
    {
     "name": "stderr",
     "output_type": "stream",
     "text": [
      "100%|██████████| 400000/400000 [21:02<00:00, 316.83it/s]\n"
     ]
    }
   ],
   "source": [
    "triplets = generate_triplets(items_data, 4 * 10 ** 5, 5,\n",
    "                             0.6,\n",
    "                             1.0,\n",
    "                             0.3)\n",
    "triplets_to_csv(triplets, f\"{DEEP_FASHION_DIR}/triplets_400k.csv\", tvt_split=[0.9, 0.1])"
   ]
  }
 ],
 "metadata": {
  "kernelspec": {
   "display_name": "Python 3",
   "language": "python",
   "name": "python3"
  },
  "language_info": {
   "codemirror_mode": {
    "name": "ipython",
    "version": 3
   },
   "file_extension": ".py",
   "mimetype": "text/x-python",
   "name": "python",
   "nbconvert_exporter": "python",
   "pygments_lexer": "ipython3",
   "version": "3.10.0"
  }
 },
 "nbformat": 4,
 "nbformat_minor": 5
}
