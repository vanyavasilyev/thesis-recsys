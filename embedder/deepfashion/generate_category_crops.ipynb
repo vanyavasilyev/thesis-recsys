{
 "cells": [
  {
   "cell_type": "code",
   "execution_count": 1,
   "id": "f0c1b4f0",
   "metadata": {},
   "outputs": [],
   "source": [
    "import tqdm\n",
    "import pandas as pd\n",
    "\n",
    "from parse_deepfashion import Crop, read_splits"
   ]
  },
  {
   "cell_type": "code",
   "execution_count": 2,
   "id": "de77deed",
   "metadata": {},
   "outputs": [],
   "source": [
    "DEEP_FASHION_DIR = \"\""
   ]
  },
  {
   "cell_type": "code",
   "execution_count": 3,
   "id": "3159376f",
   "metadata": {},
   "outputs": [
    {
     "name": "stdout",
     "output_type": "stream",
     "text": [
      "Reading train split\n"
     ]
    },
    {
     "name": "stderr",
     "output_type": "stream",
     "text": [
      "  0%|          | 0/191961 [00:00<?, ?it/s]"
     ]
    },
    {
     "name": "stderr",
     "output_type": "stream",
     "text": [
      "100%|██████████| 191961/191961 [00:12<00:00, 15266.31it/s]\n",
      "100%|██████████| 14555/14555 [16:20<00:00, 14.84it/s]\n"
     ]
    }
   ],
   "source": [
    "items_data = read_splits(DEEP_FASHION_DIR, [\"train\"], True, False)"
   ]
  },
  {
   "cell_type": "code",
   "execution_count": 8,
   "id": "6ae4512f",
   "metadata": {},
   "outputs": [
    {
     "name": "stderr",
     "output_type": "stream",
     "text": [
      "100%|██████████| 14555/14555 [00:00<00:00, 61559.22it/s]\n"
     ]
    }
   ],
   "source": [
    "cat_ids = []\n",
    "cat_names = []\n",
    "crop_files = []\n",
    "for crops in tqdm.tqdm(items_data.values()):\n",
    "    crop: Crop = crops[0]\n",
    "    for crop in crops:\n",
    "        cat_ids.append(crop.category_id)\n",
    "        cat_names.append(crop.category_name)\n",
    "        crop_files.append(crop.crop_file)"
   ]
  },
  {
   "cell_type": "code",
   "execution_count": 9,
   "id": "06905620",
   "metadata": {},
   "outputs": [],
   "source": [
    "df = pd.DataFrame({\n",
    "    \"category_id\": cat_ids,\n",
    "    \"category_name\": cat_names,\n",
    "    \"filenames\": crop_files,\n",
    "})"
   ]
  },
  {
   "cell_type": "code",
   "execution_count": 12,
   "id": "eb5b3935",
   "metadata": {},
   "outputs": [],
   "source": [
    "df.to_csv(f\"{DEEP_FASHION_DIR}/crop_categories.csv\", index=False)"
   ]
  }
 ],
 "metadata": {
  "kernelspec": {
   "display_name": "Python 3",
   "language": "python",
   "name": "python3"
  },
  "language_info": {
   "codemirror_mode": {
    "name": "ipython",
    "version": 3
   },
   "file_extension": ".py",
   "mimetype": "text/x-python",
   "name": "python",
   "nbconvert_exporter": "python",
   "pygments_lexer": "ipython3",
   "version": "3.10.0"
  }
 },
 "nbformat": 4,
 "nbformat_minor": 5
}
