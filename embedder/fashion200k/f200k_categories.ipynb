{
 "cells": [
  {
   "cell_type": "code",
   "execution_count": 148,
   "id": "e9145200",
   "metadata": {},
   "outputs": [],
   "source": [
    "import os\n",
    "import json\n",
    "import tqdm\n",
    "import pandas as pd\n",
    "import numpy as np\n",
    "\n",
    "from PIL import Image"
   ]
  },
  {
   "cell_type": "code",
   "execution_count": 75,
   "id": "b345fc70",
   "metadata": {},
   "outputs": [],
   "source": [
    "FASHION200K_DIR = \"\"\n",
    "FASHION_200K_CATEGORIES = \"../categories/fashion_200k_categories.json\""
   ]
  },
  {
   "cell_type": "code",
   "execution_count": 76,
   "id": "b0c940cb",
   "metadata": {},
   "outputs": [],
   "source": [
    "with open(f\"{FASHION200K_DIR}/loaded_images.txt\", \"r\") as f:\n",
    "    loaded_images = f.read()\n",
    "loaded_images = set(loaded_images.split(\"\\n\"))\n",
    "\n",
    "with open(FASHION_200K_CATEGORIES, \"r\") as f:\n",
    "    category_mapping = json.load(f)\n",
    "used_categories = set(category_mapping.keys())"
   ]
  },
  {
   "cell_type": "code",
   "execution_count": 127,
   "id": "be888089",
   "metadata": {},
   "outputs": [],
   "source": [
    "label_categories_mapping = {\n",
    "    \"dress\": \"dress\",\n",
    "    \"skirt\": \"skirt\",\n",
    "    \"jackt\": \"outwear\",\n",
    "    \"outwear\": \"outwear\",\n",
    "    \"sweater\": \"outwear\",\n",
    "    \"blazer\": \"outwear\",\n",
    "    \"shorts\": \"shorts\",\n",
    "    \"pants\": \"pants\",\n",
    "    \"trousers\": \"pants\",\n",
    "    \"pant\": \"pants\",\n",
    "    \"jeans\": \"pants\",\n",
    "    \"blouse\": \"top\",\n",
    "    \"top\": \"top\",\n",
    "    \"shirt\": \"top\",\n",
    "}"
   ]
  },
  {
   "cell_type": "code",
   "execution_count": 110,
   "id": "2cf5bf50",
   "metadata": {},
   "outputs": [],
   "source": [
    "labels_dir = f\"{FASHION200K_DIR}/labels\""
   ]
  },
  {
   "cell_type": "code",
   "execution_count": 77,
   "id": "bc7c5f42",
   "metadata": {},
   "outputs": [],
   "source": [
    "detection_dir = f\"{FASHION200K_DIR}/detection\""
   ]
  },
  {
   "cell_type": "code",
   "execution_count": 129,
   "id": "76191980",
   "metadata": {},
   "outputs": [],
   "source": [
    "filename2category = {}"
   ]
  },
  {
   "cell_type": "code",
   "execution_count": 132,
   "id": "fc699950",
   "metadata": {},
   "outputs": [],
   "source": [
    "for filename in os.listdir(labels_dir):\n",
    "    with open(f\"{labels_dir}/{filename}\", \"r\") as f:\n",
    "        labels_data = f.read()\n",
    "    for line in labels_data.split(\"\\n\"):\n",
    "        line = line.split()\n",
    "        if len(line) < 2:\n",
    "            continue\n",
    "        name = line[0]\n",
    "        for w in line[2:]:\n",
    "            if w in label_categories_mapping:\n",
    "                filename2category[name] = label_categories_mapping[w]"
   ]
  },
  {
   "cell_type": "code",
   "execution_count": 78,
   "id": "1d9b28fb",
   "metadata": {},
   "outputs": [],
   "source": [
    "def valid_bbox(bbox) -> bool:\n",
    "    if bbox[2] <= bbox[0]:\n",
    "        return False\n",
    "    if bbox[3] <= bbox[1]:\n",
    "        return False\n",
    "    for coord in bbox:\n",
    "        if coord < 0:\n",
    "            return False\n",
    "    return True"
   ]
  },
  {
   "cell_type": "code",
   "execution_count": 136,
   "id": "82b7c3f1",
   "metadata": {},
   "outputs": [
    {
     "name": "stderr",
     "output_type": "stream",
     "text": [
      "  5%|▍         | 3555/72446 [00:00<00:03, 17842.33it/s]"
     ]
    },
    {
     "name": "stderr",
     "output_type": "stream",
     "text": [
      "100%|██████████| 72446/72446 [00:04<00:00, 18050.55it/s]\n",
      "100%|██████████| 72377/72377 [00:05<00:00, 12180.99it/s]\n",
      "100%|██████████| 74471/74471 [00:02<00:00, 28385.23it/s]\n",
      "100%|██████████| 71126/71126 [00:00<00:00, 169382.40it/s]\n",
      "100%|██████████| 47932/47932 [00:04<00:00, 11710.76it/s]\n"
     ]
    }
   ],
   "source": [
    "categories = []\n",
    "crop_paths = []\n",
    "\n",
    "for filename in os.listdir(detection_dir):\n",
    "    if not filename.startswith(\"women\"):\n",
    "        continue\n",
    "    with open(f\"{detection_dir}/{filename}\", \"r\") as f:\n",
    "        detection_data = f.read()\n",
    "    for line in tqdm.tqdm(detection_data.split(\"\\n\")):\n",
    "        line = line.split()\n",
    "        if len(line) < 2:\n",
    "            continue\n",
    "        image_path = line[0]\n",
    "        if image_path not in filename2category:\n",
    "            continue\n",
    "        if image_path not in loaded_images:\n",
    "            continue\n",
    "        full_img = Image.open(os.path.join(FASHION200K_DIR, image_path))\n",
    "        for i, det in enumerate(line[1:]):\n",
    "            cat = det.split(\"_\")[0]\n",
    "            if cat != filename2category[image_path]:\n",
    "                continue\n",
    "                \n",
    "            bbox = det.split(\"_\")[-4:]\n",
    "            bbox = [float(bbox[0]) * full_img.width,\n",
    "                    float(bbox[2]) * full_img.height,\n",
    "                    float(bbox[1]) * full_img.width,\n",
    "                    float(bbox[3]) * full_img.height]\n",
    "            if not valid_bbox(bbox):\n",
    "                continue\n",
    "            crop_path = f\"{FASHION200K_DIR}/{os.path.dirname(image_path)}/crop{i}_{os.path.basename(image_path)}\"\n",
    "            categories.append(cat)\n",
    "            crop_paths.append(crop_path)\n",
    "            if not os.path.exists(crop_path):\n",
    "                full_img.crop(bbox).save(crop_path)           \n"
   ]
  },
  {
   "cell_type": "code",
   "execution_count": 154,
   "id": "925108c0",
   "metadata": {},
   "outputs": [],
   "source": [
    "df = pd.DataFrame({\n",
    "    \"category_name\": categories,\n",
    "    \"filenames\": crop_paths\n",
    "})"
   ]
  },
  {
   "cell_type": "code",
   "execution_count": 155,
   "id": "a02b6747",
   "metadata": {},
   "outputs": [],
   "source": [
    "rds = np.random.random(len(df))"
   ]
  },
  {
   "cell_type": "code",
   "execution_count": 156,
   "id": "406c985a",
   "metadata": {},
   "outputs": [],
   "source": [
    "split = [(\"train\" if rd < 0.9 else \"val\") for rd in rds]"
   ]
  },
  {
   "cell_type": "code",
   "execution_count": 157,
   "id": "567bea7f",
   "metadata": {},
   "outputs": [],
   "source": [
    "df[\"split\"] = split"
   ]
  },
  {
   "cell_type": "code",
   "execution_count": 158,
   "id": "d05a9f6f",
   "metadata": {},
   "outputs": [],
   "source": [
    "df.to_csv(f\"{FASHION200K_DIR}/crop_categories.csv\", index=False)"
   ]
  }
 ],
 "metadata": {
  "kernelspec": {
   "display_name": "Python 3",
   "language": "python",
   "name": "python3"
  },
  "language_info": {
   "codemirror_mode": {
    "name": "ipython",
    "version": 3
   },
   "file_extension": ".py",
   "mimetype": "text/x-python",
   "name": "python",
   "nbconvert_exporter": "python",
   "pygments_lexer": "ipython3",
   "version": "3.10.0"
  }
 },
 "nbformat": 4,
 "nbformat_minor": 5
}
